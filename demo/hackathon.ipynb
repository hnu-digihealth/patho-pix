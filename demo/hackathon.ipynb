{
 "cells": [
  {
   "cell_type": "markdown",
   "metadata": {},
   "source": [
    "blabla text welcome"
   ]
  },
  {
   "cell_type": "code",
   "execution_count": null,
   "metadata": {},
   "outputs": [],
   "source": [
    "# Import required libraries\n",
    "import os\n",
    "import tempfile\n",
    "import requests\n",
    "from patho_pix.utils import convert_jpeg_to_tiff\n",
    "\n",
    "# Download data from public clinical dataset\n",
    "url_img = \"http://glioblastoma.alleninstitute.org/cgi-bin/imageservice?path=\" + \\\n",
    "          \"/external/gbm/prod0/0534338827/0534338827_annotation.aff&mime=1\" + \\\n",
    "          \"&fileout=100122048_1.jpg&zoom=9&top=20224&left=57888&width=15040&height=18048\"\n",
    "\n",
    "# Create temporary directory for dummy data\n",
    "tmp_data = tempfile.TemporaryDirectory(prefix=\"tmp.patho-pix.\")\n",
    "# Download dummy image\n",
    "print(\"Downloading dummy image\")\n",
    "response = requests.get(url_img)\n",
    "if response.status_code == 200:\n",
    "    path_img = os.path.join(tmp_data.name, \"image.jpg\")\n",
    "    with open(path_img, \"wb\") as fd:\n",
    "        fd.write(response.content)\n",
    "convert_jpeg_to_tiff(path_img, path_img.replace(\".jpg\", \".tiff\"))\n",
    "\n",
    "print(os.listdir(tmp_data.name))"
   ]
  },
  {
   "cell_type": "code",
   "execution_count": null,
   "metadata": {
    "vscode": {
     "languageId": "plaintext"
    }
   },
   "outputs": [],
   "source": []
  },
  {
   "cell_type": "code",
   "execution_count": null,
   "metadata": {
    "vscode": {
     "languageId": "plaintext"
    }
   },
   "outputs": [],
   "source": []
  }
 ],
 "metadata": {
  "language_info": {
   "name": "python"
  },
  "orig_nbformat": 4
 },
 "nbformat": 4,
 "nbformat_minor": 2
}
