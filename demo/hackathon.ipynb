{
  "cells": [
    {
      "cell_type": "code",
      "execution_count": null,
      "metadata": {},
      "outputs": [],
      "source": [
        "!pip install patho-pix"
      ]
    },
    {
      "cell_type": "markdown",
      "metadata": {
        "id": "SHYJMMedOgSA"
      },
      "source": [
        "# Introduction to Patho-Pix: Whole Slide Image Preprocessing for Pathology\n",
        "\n",
        "Welcome to the UKSH Healthcare Hackathon! We are excited to present **Patho-Pix**, a cutting-edge framework designed to streamline the preprocessing of whole slide images (WSIs) in pathology. This Jupyter notebook will guide you through the key features and functionalities of Patho-Pix, demonstrating its potential to enhance the efficiency and accuracy of digital pathology workflows.\n",
        "\n",
        "## Why Whole Slide Imaging?\n",
        "\n",
        "Whole slide imaging (WSI) represents a significant advancement in pathology, allowing for the digitization of entire histological slides at high resolution. This technology facilitates remote diagnostics, educational initiatives, and computational pathology research. However, the sheer size and complexity of WSIs pose substantial challenges for data management, processing, and analysis.\n",
        "\n",
        "## The Need for Preprocessing\n",
        "\n",
        "Effective preprocessing of WSIs is crucial for several reasons:\n",
        "- **Quality Enhancement**: Enhancing image quality by correcting artifacts, normalizing stains, and balancing colors ensures more reliable analyses.\n",
        "- **Data Reduction**: Reducing the data size through techniques like tiling and compression allows for more manageable storage and faster processing.\n",
        "- **Feature Extraction**: Identifying and isolating regions of interest (ROIs) facilitates targeted analyses and reduces computational load.\n",
        "\n",
        "## Introducing Patho-Pix\n",
        "\n",
        "Patho-Pix is designed to address these challenges by providing a comprehensive suite of tools for WSI preprocessing. Our framework includes functionalities such as:\n",
        "\n",
        "- **Tissue Masks & ROI Detection**: Automatically identify and extract regions of interest based on tissue masks for further examination.\n",
        "- **Image Tiling**: Divide large WSIs into smaller, more manageable tiles for focused analysis.\n",
        "- **Stain Normalization**: Standardize staining across slides to minimize variability and enhance visual consistency.\n",
        "- **FUTURE OUTLOOK: Artifact Removal**: Automatically detect and correct common artifacts in pathology slides.\n",
        "\n",
        "## Demonstration Overview\n",
        "\n",
        "In this notebook, we will walk you through the core capabilities of Patho-Pix, showcasing its application to sample WSIs. You will see how our framework can transform raw slide images into preprocessed data ready for analysis. The demonstration will cover the following steps:\n",
        "\n",
        "1. **Loading and Visualizing WSIs**: Importing whole slide images and displaying them for initial inspection.\n",
        "2. **Tiling and ROI Extraction**: Segmenting the WSIs into tiles and extracting regions of interest based on tissue masks for detailed analysis.\n",
        "3. **Metadata Extraction**: Utilize additional metadata beside purely imaging for later artificial intelligence models.\n",
        "4. **Stain Normalization**: Standardizing the color profiles of the slides to ensure uniformity.\n",
        "\n",
        "By the end of this demonstration, you will have a clear understanding of how Patho-Pix can be integrated into digital pathology workflows to enhance the preprocessing of whole slide images, ultimately leading to more accurate and efficient diagnostic and research outcomes.\n",
        "\n",
        "Let's get started!"
      ]
    },
    {
      "cell_type": "markdown",
      "metadata": {
        "id": "zdWvzh55O2Q_"
      },
      "source": [
        "## 0. Setup"
      ]
    },
    {
      "cell_type": "code",
      "execution_count": null,
      "metadata": {
        "colab": {
          "base_uri": "https://localhost:8080/"
        },
        "id": "5uWVlsPpPXKh",
        "outputId": "79640e4e-984d-43de-fbcd-9926e4cdc6cb"
      },
      "outputs": [],
      "source": [
        "from sys import platform\n",
        "\n",
        "if platform == \"linux\" or platform == \"linux2\":\n",
        "    !apt update && apt install -y openslide-tools\n",
        "elif platform == \"darwin\":\n",
        "    !brew install openslide"
      ]
    },
    {
      "cell_type": "code",
      "execution_count": null,
      "metadata": {
        "colab": {
          "base_uri": "https://localhost:8080/"
        },
        "id": "zdAC-XASOqeq",
        "outputId": "2f43c47e-a416-4b2f-b62c-0124b5dcb3c6"
      },
      "outputs": [],
      "source": [
        "import requests\n",
        "import os\n",
        "import tempfile\n",
        "from patho_pix.utils import convert_jpeg_to_tiff\n",
        "\n",
        "# Download images\n",
        "url_img = \"http://glioblastoma.alleninstitute.org/cgi-bin/imageservice?path=\" + \\\n",
        "           \"/external/gbm/prod0/0534338971/0534338971.aff&mime=1&fileout=100125374_2.\" + \\\n",
        "           \"jpg&zoom=9&top=20608&left=55168&width=15040&height=18048\"\n",
        "url_mask = \"http://glioblastoma.alleninstitute.org/cgi-bin/imageservice?path=\" + \\\n",
        "          \"/external/gbm/prod0/0534338827/0534338827_annotation.aff&mime=1\" + \\\n",
        "          \"&fileout=100122048_1.jpg&zoom=9&top=20224&left=57888&width=15040&height=18048\"\n",
        "\n",
        "# Create temporary directory for dummy data\n",
        "tmp_data = tempfile.TemporaryDirectory(prefix=\"tmp.patho-pix.\")\n",
        "# Download dummy image\n",
        "print(\"Downloading dummy image\")\n",
        "response = requests.get(url_img)\n",
        "if response.status_code == 200:\n",
        "    path_img = os.path.join(tmp_data.name, \"image.jpg\")\n",
        "    with open(path_img, \"wb\") as fd:\n",
        "        fd.write(response.content)\n",
        "# Download dummy mask\n",
        "print(\"Downloading dummy mask\")\n",
        "response = requests.get(url_mask)\n",
        "if response.status_code == 200:\n",
        "    path_mask = os.path.join(tmp_data.name, \"mask.jpg\")\n",
        "    with open(path_mask, \"wb\") as fd:\n",
        "        fd.write(response.content)\n",
        "# convert to tiff\n",
        "convert_jpeg_to_tiff(path_img, path_img.replace(\".jpg\", \".tiff\"))\n",
        "convert_jpeg_to_tiff(path_mask, path_mask.replace(\".jpg\", \".tiff\"))\n",
        "path_img = path_img.replace(\".jpg\", \".tiff\")\n",
        "path_mask = path_mask.replace(\".jpg\", \".tiff\")"
      ]
    },
    {
      "cell_type": "markdown",
      "metadata": {
        "id": "B_msEQdfPzBs"
      },
      "source": [
        "## 1. Loading and Visualizing WSIs\n",
        "\n",
        "In this chapter, we will cover the process of importing whole slide images (WSIs) into our Patho-Pix framework and displaying them for initial inspection. This step is crucial as it allows us to visually assess the quality and characteristics of the slides before applying any preprocessing techniques. We will demonstrate how to load WSIs from a common pathology file format (BigTiff) and explore basic visualization tools to navigate and examine the high-resolution images as simplistic thumbnails."
      ]
    },
    {
      "cell_type": "code",
      "execution_count": null,
      "metadata": {
        "id": "7MmVD7eRPxyu"
      },
      "outputs": [],
      "source": [
        "# Load scans\n",
        "from patho_pix.io import load_mask, load_wsi\n",
        "\n",
        "tile_dir_img = tempfile.TemporaryDirectory(prefix=\"tmp.patho-pix.img\")\n",
        "wsi = load_wsi(path_img, tile_dir_img.name)\n",
        "\n",
        "tile_dir_mask = tempfile.TemporaryDirectory(prefix=\"tmp.patho-pix.mask\")\n",
        "mask = load_mask(path_mask, tile_dir_mask.name)"
      ]
    },
    {
      "cell_type": "code",
      "execution_count": null,
      "metadata": {
        "colab": {
          "base_uri": "https://localhost:8080/",
          "height": 197
        },
        "id": "MLWEhgm_QLzm",
        "outputId": "49776209-8dea-4167-99fb-4ce778f06061"
      },
      "outputs": [],
      "source": [
        "# Create thumbnail for image\n",
        "wsi.thumbnail"
      ]
    },
    {
      "cell_type": "code",
      "execution_count": null,
      "metadata": {
        "colab": {
          "base_uri": "https://localhost:8080/",
          "height": 197
        },
        "id": "OSwe_r2vQVRn",
        "outputId": "e0c0cea0-9443-44c4-eeb4-ee4e9d779f8a"
      },
      "outputs": [],
      "source": [
        "# Create thumbnail for mask\n",
        "mask.thumbnail"
      ]
    },
    {
      "cell_type": "markdown",
      "metadata": {
        "id": "CvSG4ATYQbjE"
      },
      "source": [
        "## 2. Tiling and ROI Extraction via Tissue Mask\n",
        "\n",
        "In this chapter, we will delve into the process of segmenting whole slide images (WSIs) into smaller, manageable tiles and extracting regions of interest (ROIs). Tiling is essential for handling the large size of WSIs, making it easier to focus on specific areas for detailed analysis. We will demonstrate how Patho-Pix automates the tiling process and efficiently identifies and extracts ROIs, ensuring that critical pathological features are highlighted for further examination.\n"
      ]
    },
    {
      "cell_type": "code",
      "execution_count": null,
      "metadata": {
        "colab": {
          "base_uri": "https://localhost:8080/",
          "height": 581
        },
        "id": "kbrcKSnEQkVN",
        "outputId": "2db4038f-a4d8-48c5-852d-0fbad566c4fe"
      },
      "outputs": [],
      "source": [
        "# preview tiling\n",
        "from patho_pix.utils import AwesomeTiler\n",
        "wsi_tiler = AwesomeTiler(\n",
        "    tile_size=(1024, 1024),\n",
        "    check_tissue=True,\n",
        "    tissue_percent=10.0,\n",
        "    prefix=\"patho-fix.\",\n",
        "    suffix=\".png\",\n",
        ")\n",
        "wsi_tiler.locate_tiles(wsi)"
      ]
    },
    {
      "cell_type": "code",
      "execution_count": null,
      "metadata": {
        "colab": {
          "base_uri": "https://localhost:8080/"
        },
        "id": "VN4BqzqiQx9I",
        "outputId": "a87a71ca-b226-4603-8956-ceb059d9af7b"
      },
      "outputs": [],
      "source": [
        "# run tiling\n",
        "from patho_pix.tiling import tile_wsi_mask\n",
        "metadata = tile_wsi_mask(wsi, mask)"
      ]
    },
    {
      "cell_type": "code",
      "execution_count": null,
      "metadata": {
        "colab": {
          "base_uri": "https://localhost:8080/",
          "height": 357
        },
        "id": "RSk9F29IRGrC",
        "outputId": "c511c816-86b6-4e6b-bf26-e5c109a62e9e"
      },
      "outputs": [],
      "source": [
        "# demonstrate tile example\n",
        "from PIL import Image\n",
        "image = Image.open(os.path.join(tile_dir_img.name, os.listdir(tile_dir_img.name)[40]))\n",
        "image.resize((340,340))"
      ]
    },
    {
      "cell_type": "code",
      "execution_count": null,
      "metadata": {
        "colab": {
          "base_uri": "https://localhost:8080/"
        },
        "id": "arcIEJYWTzGa",
        "outputId": "c58930a2-fa50-4f77-bed2-181b48f82a1e"
      },
      "outputs": [],
      "source": [
        "# show tile files\n",
        "os.listdir(tile_dir_img.name)"
      ]
    },
    {
      "cell_type": "markdown",
      "metadata": {
        "id": "ezcPHX8bSJlU"
      },
      "source": [
        "## 3. Metadata\n",
        "\n",
        "Metadata plays a crucial role in the analysis and interpretation of whole slide images (WSIs). It provides essential information about the image, such as dimensions, resolution, and tissue composition. One important aspect of metadata extraction is determining the tissue percentage per tile, which involves calculating the proportion of tissue versus non-tissue areas within each segmented tile. This metric helps pathologists and researchers focus on the most relevant regions, facilitating more accurate diagnoses and analyses. Patho-Pix includes tools to automatically extract and analyze such metadata, enhancing the efficiency and effectiveness of digital pathology workflows."
      ]
    },
    {
      "cell_type": "code",
      "execution_count": null,
      "metadata": {
        "colab": {
          "base_uri": "https://localhost:8080/"
        },
        "id": "pBR5STqhQ7OV",
        "outputId": "fb324d78-ba51-49da-910b-083a5b0dd279"
      },
      "outputs": [],
      "source": [
        "# extract metadata\n",
        "import pandas as pd\n",
        "df = pd.DataFrame.from_dict(metadata, orient=\"index\", columns=[\"percentage_tissue\"])\n",
        "print(df)\n"
      ]
    },
    {
      "cell_type": "markdown",
      "metadata": {
        "id": "Y__Snm2HRo1C"
      },
      "source": [
        "## 4. Stain Normalization\n",
        "\n",
        "Future work"
      ]
    }
  ],
  "metadata": {
    "colab": {
      "provenance": []
    },
    "kernelspec": {
      "display_name": "Python 3",
      "name": "python3"
    },
    "language_info": {
      "codemirror_mode": {
        "name": "ipython",
        "version": 3
      },
      "file_extension": ".py",
      "mimetype": "text/x-python",
      "name": "python",
      "nbconvert_exporter": "python",
      "pygments_lexer": "ipython3",
      "version": "3.8.18"
    }
  },
  "nbformat": 4,
  "nbformat_minor": 0
}
